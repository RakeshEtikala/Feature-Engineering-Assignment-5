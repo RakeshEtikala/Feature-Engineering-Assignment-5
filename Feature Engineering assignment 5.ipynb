{
 "cells": [
  {
   "cell_type": "markdown",
   "id": "ddab8731-fb58-4ccb-a28c-4c92fc65cb87",
   "metadata": {},
   "source": [
    "Q1. What is the difference between Ordinal Encoding and Label Encoding? Provide an example of when you might choose one over the other"
   ]
  },
  {
   "cell_type": "markdown",
   "id": "187d4841-8c20-40d0-a89d-795b011037cf",
   "metadata": {},
   "source": [
    "Label encoding and ordinal encoding are 2 techniques used to encode categorical data as numerical data Label encoding involves assigning a unique numerical label to each category in the variable. The labels are usually assigned in alphabetical order or based on the frequancy of the categories. For example, if we have categorical variable \"color\" with three possible values (red, green,blue) we can represent it using label encoding\n",
    "\n",
    "1. Red :1\n",
    "2. Green :2\n",
    "3. Blue :3"
   ]
  },
  {
   "cell_type": "markdown",
   "id": "6bce972f-f034-44a3-9545-489f997f8c59",
   "metadata": {},
   "source": [
    "It is used to encode categorical data that have an intrinsic order or ranking. In this technique, each category is assigned a numerical value based on it position in the order. For example, if we have a categorical variable \"\" Education level\"\" with four possible values (high school, college, graduate, post-graduate), we can represent it using ordinal encoding as follows:\n",
    "\n",
    "High school: 1\n",
    "College : 2\n",
    "Graduate: 3\n",
    "Post-Graduate: 4"
   ]
  },
  {
   "cell_type": "markdown",
   "id": "f81381b4-1421-4bf8-82c3-692b4ab8221a",
   "metadata": {},
   "source": [
    "Q2. Explain how Target Guided Ordinal Encoding works and provide an example of when you might use it in \n",
    "a machine learning project."
   ]
  },
  {
   "cell_type": "markdown",
   "id": "f4e30deb-29e2-4f18-9148-5c0c9f61c518",
   "metadata": {},
   "source": [
    "Ans. It is a technique used to encode categorical variables based on their relationship with the target variable. This encoding technique is useful when we have a categorical variable with a large number of unique categories, and we want to use this variable as a feature in our machine learning model.\n",
    "\n",
    "In target guided ordinal encoding, we replace each category in the categorical variable with a numerical value based on the mean or median of the target variable for that category. this creates a monotonic relationship between the categorical variable and the target varaible, which can improve the predictive power of our model."
   ]
  },
  {
   "cell_type": "markdown",
   "id": "d01d3b6e-3d5f-41aa-accd-bd5dad4f8529",
   "metadata": {},
   "source": [
    "Q3. Define covariance and explain why it is important in statistical analysis. How is covariance calculated?"
   ]
  },
  {
   "cell_type": "markdown",
   "id": "49f8792a-d754-497c-99b3-7fb53f9b2b5b",
   "metadata": {},
   "source": [
    "Ans. it represents the relationship between two variables, indicating whether an increase in one variable is associated with an increase, decrease, or no change in the other variable. "
   ]
  },
  {
   "cell_type": "markdown",
   "id": "b54d0d39-b51c-40d7-93ca-f9fc3f22f67d",
   "metadata": {},
   "source": [
    "Q4. For a dataset with the following categorical variables: Color (red, green, blue), Size (small, medium, \n",
    "large), and Material (wood, metal, plastic), perform label encoding using Python's scikit-learn library. \n",
    "Show your code and explain the output."
   ]
  },
  {
   "cell_type": "code",
   "execution_count": 1,
   "id": "9eeb0f92-fa62-4096-8420-a5a4b353ee7a",
   "metadata": {},
   "outputs": [],
   "source": [
    "import pandas as pd"
   ]
  },
  {
   "cell_type": "code",
   "execution_count": 3,
   "id": "d8b052aa-4334-41bf-bcd0-e9b5ba0528b3",
   "metadata": {},
   "outputs": [],
   "source": [
    "df =pd.DataFrame({\n",
    "    \"color\": [\"red\",'green','blue'],\n",
    "    \"Material\" : [\"wood\",'metal','plastic'],\n",
    "    \"Size\": [\"small\",\"Medium\", 'large']\n",
    "})"
   ]
  },
  {
   "cell_type": "code",
   "execution_count": 4,
   "id": "d78cd807-fe71-40c3-b583-6700f4ab1028",
   "metadata": {},
   "outputs": [
    {
     "data": {
      "text/html": [
       "<div>\n",
       "<style scoped>\n",
       "    .dataframe tbody tr th:only-of-type {\n",
       "        vertical-align: middle;\n",
       "    }\n",
       "\n",
       "    .dataframe tbody tr th {\n",
       "        vertical-align: top;\n",
       "    }\n",
       "\n",
       "    .dataframe thead th {\n",
       "        text-align: right;\n",
       "    }\n",
       "</style>\n",
       "<table border=\"1\" class=\"dataframe\">\n",
       "  <thead>\n",
       "    <tr style=\"text-align: right;\">\n",
       "      <th></th>\n",
       "      <th>color</th>\n",
       "      <th>Material</th>\n",
       "      <th>Size</th>\n",
       "    </tr>\n",
       "  </thead>\n",
       "  <tbody>\n",
       "    <tr>\n",
       "      <th>0</th>\n",
       "      <td>red</td>\n",
       "      <td>wood</td>\n",
       "      <td>small</td>\n",
       "    </tr>\n",
       "    <tr>\n",
       "      <th>1</th>\n",
       "      <td>green</td>\n",
       "      <td>metal</td>\n",
       "      <td>Medium</td>\n",
       "    </tr>\n",
       "    <tr>\n",
       "      <th>2</th>\n",
       "      <td>blue</td>\n",
       "      <td>plastic</td>\n",
       "      <td>large</td>\n",
       "    </tr>\n",
       "  </tbody>\n",
       "</table>\n",
       "</div>"
      ],
      "text/plain": [
       "   color Material    Size\n",
       "0    red     wood   small\n",
       "1  green    metal  Medium\n",
       "2   blue  plastic   large"
      ]
     },
     "execution_count": 4,
     "metadata": {},
     "output_type": "execute_result"
    }
   ],
   "source": [
    "df"
   ]
  },
  {
   "cell_type": "code",
   "execution_count": 5,
   "id": "91e2bcad-5a8e-4d46-add1-e84cc959f069",
   "metadata": {},
   "outputs": [],
   "source": [
    "from sklearn.preprocessing import LabelEncoder"
   ]
  },
  {
   "cell_type": "code",
   "execution_count": 9,
   "id": "4c4e6ab7-6fd6-41f5-bcb3-47158c28ccad",
   "metadata": {},
   "outputs": [],
   "source": [
    "label = LabelEncoder()"
   ]
  },
  {
   "cell_type": "code",
   "execution_count": 18,
   "id": "7b6e0019-ffd4-4351-ba9a-c344f991ca81",
   "metadata": {},
   "outputs": [
    {
     "name": "stderr",
     "output_type": "stream",
     "text": [
      "/opt/conda/lib/python3.10/site-packages/sklearn/preprocessing/_label.py:116: DataConversionWarning: A column-vector y was passed when a 1d array was expected. Please change the shape of y to (n_samples, ), for example using ravel().\n",
      "  y = column_or_1d(y, warn=True)\n"
     ]
    },
    {
     "data": {
      "text/plain": [
       "array([2, 1, 0])"
      ]
     },
     "execution_count": 18,
     "metadata": {},
     "output_type": "execute_result"
    }
   ],
   "source": [
    "label.fit_transform(df[[\"color\"]])"
   ]
  },
  {
   "cell_type": "code",
   "execution_count": 19,
   "id": "9abfc894-25ff-4d77-9aab-6c5bd4697c91",
   "metadata": {},
   "outputs": [
    {
     "data": {
      "text/plain": [
       "0      red\n",
       "1    green\n",
       "2     blue\n",
       "Name: color, dtype: object"
      ]
     },
     "execution_count": 19,
     "metadata": {},
     "output_type": "execute_result"
    }
   ],
   "source": [
    "(df[\"color\"])"
   ]
  },
  {
   "cell_type": "code",
   "execution_count": 20,
   "id": "b45d01c1-550b-4653-8354-24c56057ad40",
   "metadata": {},
   "outputs": [
    {
     "name": "stderr",
     "output_type": "stream",
     "text": [
      "/opt/conda/lib/python3.10/site-packages/sklearn/preprocessing/_label.py:116: DataConversionWarning: A column-vector y was passed when a 1d array was expected. Please change the shape of y to (n_samples, ), for example using ravel().\n",
      "  y = column_or_1d(y, warn=True)\n"
     ]
    },
    {
     "data": {
      "text/plain": [
       "array([2, 0, 1])"
      ]
     },
     "execution_count": 20,
     "metadata": {},
     "output_type": "execute_result"
    }
   ],
   "source": [
    "label.fit_transform(df[[\"Material\"]])"
   ]
  },
  {
   "cell_type": "code",
   "execution_count": 21,
   "id": "aecf62ed-d682-40c4-a0e2-e33aa74df346",
   "metadata": {},
   "outputs": [
    {
     "data": {
      "text/plain": [
       "0       wood\n",
       "1      metal\n",
       "2    plastic\n",
       "Name: Material, dtype: object"
      ]
     },
     "execution_count": 21,
     "metadata": {},
     "output_type": "execute_result"
    }
   ],
   "source": [
    "(df[\"Material\"])"
   ]
  },
  {
   "cell_type": "code",
   "execution_count": 22,
   "id": "14f14b0e-8b58-4a73-9085-62f0c5e5502a",
   "metadata": {},
   "outputs": [
    {
     "name": "stderr",
     "output_type": "stream",
     "text": [
      "/opt/conda/lib/python3.10/site-packages/sklearn/preprocessing/_label.py:116: DataConversionWarning: A column-vector y was passed when a 1d array was expected. Please change the shape of y to (n_samples, ), for example using ravel().\n",
      "  y = column_or_1d(y, warn=True)\n"
     ]
    },
    {
     "data": {
      "text/plain": [
       "array([2, 0, 1])"
      ]
     },
     "execution_count": 22,
     "metadata": {},
     "output_type": "execute_result"
    }
   ],
   "source": [
    "label.fit_transform(df[[\"Size\"]])"
   ]
  },
  {
   "cell_type": "code",
   "execution_count": 23,
   "id": "74ada00f-7d70-46cb-b31d-e08beb859532",
   "metadata": {},
   "outputs": [
    {
     "data": {
      "text/plain": [
       "0     small\n",
       "1    Medium\n",
       "2     large\n",
       "Name: Size, dtype: object"
      ]
     },
     "execution_count": 23,
     "metadata": {},
     "output_type": "execute_result"
    }
   ],
   "source": [
    "(df[\"Size\"])"
   ]
  },
  {
   "cell_type": "markdown",
   "id": "5015cf6f-3a71-4031-88bd-491e6cd3a934",
   "metadata": {},
   "source": [
    "5. Calculate the covariance matrix for the following variables in a dataset: Age, Income, and Education \n",
    "level. Interpret the results."
   ]
  },
  {
   "cell_type": "code",
   "execution_count": 25,
   "id": "68e2d702-4cfb-43a7-be30-6396f60efc7d",
   "metadata": {},
   "outputs": [],
   "source": [
    "df2 = pd.DataFrame({\n",
    "    \"Age\":[22,29,35,28,54],\n",
    "    \"Income\":[10000,20000,15000,18000,50000],\n",
    "    \"Education\":[\"Masters\",\"Btech\",\"Phd\",\"10th\",\"Inter\"],\n",
    "})"
   ]
  },
  {
   "cell_type": "code",
   "execution_count": 26,
   "id": "50d8ecf2-8940-4251-85b9-0a6fed1c56a2",
   "metadata": {},
   "outputs": [
    {
     "data": {
      "text/html": [
       "<div>\n",
       "<style scoped>\n",
       "    .dataframe tbody tr th:only-of-type {\n",
       "        vertical-align: middle;\n",
       "    }\n",
       "\n",
       "    .dataframe tbody tr th {\n",
       "        vertical-align: top;\n",
       "    }\n",
       "\n",
       "    .dataframe thead th {\n",
       "        text-align: right;\n",
       "    }\n",
       "</style>\n",
       "<table border=\"1\" class=\"dataframe\">\n",
       "  <thead>\n",
       "    <tr style=\"text-align: right;\">\n",
       "      <th></th>\n",
       "      <th>Age</th>\n",
       "      <th>Income</th>\n",
       "      <th>Education</th>\n",
       "    </tr>\n",
       "  </thead>\n",
       "  <tbody>\n",
       "    <tr>\n",
       "      <th>0</th>\n",
       "      <td>22</td>\n",
       "      <td>10000</td>\n",
       "      <td>Masters</td>\n",
       "    </tr>\n",
       "    <tr>\n",
       "      <th>1</th>\n",
       "      <td>29</td>\n",
       "      <td>20000</td>\n",
       "      <td>Btech</td>\n",
       "    </tr>\n",
       "    <tr>\n",
       "      <th>2</th>\n",
       "      <td>35</td>\n",
       "      <td>15000</td>\n",
       "      <td>Phd</td>\n",
       "    </tr>\n",
       "    <tr>\n",
       "      <th>3</th>\n",
       "      <td>28</td>\n",
       "      <td>18000</td>\n",
       "      <td>10th</td>\n",
       "    </tr>\n",
       "    <tr>\n",
       "      <th>4</th>\n",
       "      <td>54</td>\n",
       "      <td>50000</td>\n",
       "      <td>Inter</td>\n",
       "    </tr>\n",
       "  </tbody>\n",
       "</table>\n",
       "</div>"
      ],
      "text/plain": [
       "   Age  Income Education\n",
       "0   22   10000   Masters\n",
       "1   29   20000     Btech\n",
       "2   35   15000       Phd\n",
       "3   28   18000      10th\n",
       "4   54   50000     Inter"
      ]
     },
     "execution_count": 26,
     "metadata": {},
     "output_type": "execute_result"
    }
   ],
   "source": [
    "df2"
   ]
  },
  {
   "cell_type": "code",
   "execution_count": 29,
   "id": "bc590665-5d67-4708-8ee4-5e834cfb00a4",
   "metadata": {},
   "outputs": [
    {
     "name": "stderr",
     "output_type": "stream",
     "text": [
      "/tmp/ipykernel_134/3825087732.py:1: FutureWarning: The default value of numeric_only in DataFrame.cov is deprecated. In a future version, it will default to False. Select only valid columns or specify the value of numeric_only to silence this warning.\n",
      "  df2.cov()\n"
     ]
    },
    {
     "data": {
      "text/html": [
       "<div>\n",
       "<style scoped>\n",
       "    .dataframe tbody tr th:only-of-type {\n",
       "        vertical-align: middle;\n",
       "    }\n",
       "\n",
       "    .dataframe tbody tr th {\n",
       "        vertical-align: top;\n",
       "    }\n",
       "\n",
       "    .dataframe thead th {\n",
       "        text-align: right;\n",
       "    }\n",
       "</style>\n",
       "<table border=\"1\" class=\"dataframe\">\n",
       "  <thead>\n",
       "    <tr style=\"text-align: right;\">\n",
       "      <th></th>\n",
       "      <th>Age</th>\n",
       "      <th>Income</th>\n",
       "    </tr>\n",
       "  </thead>\n",
       "  <tbody>\n",
       "    <tr>\n",
       "      <th>Age</th>\n",
       "      <td>151.3</td>\n",
       "      <td>183050.0</td>\n",
       "    </tr>\n",
       "    <tr>\n",
       "      <th>Income</th>\n",
       "      <td>183050.0</td>\n",
       "      <td>248800000.0</td>\n",
       "    </tr>\n",
       "  </tbody>\n",
       "</table>\n",
       "</div>"
      ],
      "text/plain": [
       "             Age       Income\n",
       "Age        151.3     183050.0\n",
       "Income  183050.0  248800000.0"
      ]
     },
     "execution_count": 29,
     "metadata": {},
     "output_type": "execute_result"
    }
   ],
   "source": [
    "df2.cov()"
   ]
  },
  {
   "cell_type": "markdown",
   "id": "80e5d8c3-bbaa-4a94-ab64-482a5f7234d0",
   "metadata": {},
   "source": [
    "Q6. You are working on a machine learning project with a dataset containing several categorical \n",
    "variables, including \"Gender\" (Male/Female), \"Education Level\" (High School/Bachelor's/Master's/PhD), \n",
    "and \"Employment Status\" (Unemployed/Part-Time/Full-Time). Which encoding method would you use for each variable, and why?"
   ]
  },
  {
   "cell_type": "markdown",
   "id": "be675e95-495f-42b3-b424-b2c1b9e72e01",
   "metadata": {},
   "source": [
    "Ans.For\n",
    "1. Gender we use one hot encoding\n",
    "2. Education Level Ordinal Encoding\n",
    "3. Employement Status Ordinal Encoding"
   ]
  },
  {
   "cell_type": "markdown",
   "id": "311d9fa5-a8db-49fc-abde-e2b4e9c94593",
   "metadata": {},
   "source": [
    "Q7.Pearson correlation coefficient is a measure of the linear relationship between two variables. Suppose \n",
    "you have collected data on the amount of time students spend studying for an exam and their final exam \n",
    "scores. Calculate the Pearson correlation coefficient between these two variables and interpret the result"
   ]
  },
  {
   "cell_type": "code",
   "execution_count": 30,
   "id": "4d81004a-02b2-471a-bcb5-b255c0205896",
   "metadata": {},
   "outputs": [],
   "source": [
    "df2 = pd.DataFrame({\n",
    "    \"Final Exam Scores\":[75,85,65,85,74],\n",
    "    \"Time Students Spent for Studying\":[10,12,15,18,5],\n",
    "})"
   ]
  },
  {
   "cell_type": "code",
   "execution_count": 32,
   "id": "179d53db-07d3-4146-96d0-207b12f5bf49",
   "metadata": {},
   "outputs": [
    {
     "data": {
      "text/html": [
       "<div>\n",
       "<style scoped>\n",
       "    .dataframe tbody tr th:only-of-type {\n",
       "        vertical-align: middle;\n",
       "    }\n",
       "\n",
       "    .dataframe tbody tr th {\n",
       "        vertical-align: top;\n",
       "    }\n",
       "\n",
       "    .dataframe thead th {\n",
       "        text-align: right;\n",
       "    }\n",
       "</style>\n",
       "<table border=\"1\" class=\"dataframe\">\n",
       "  <thead>\n",
       "    <tr style=\"text-align: right;\">\n",
       "      <th></th>\n",
       "      <th>Final Exam Scores</th>\n",
       "      <th>Time Students Spent for Studying</th>\n",
       "    </tr>\n",
       "  </thead>\n",
       "  <tbody>\n",
       "    <tr>\n",
       "      <th>Final Exam Scores</th>\n",
       "      <td>1.000000</td>\n",
       "      <td>0.221472</td>\n",
       "    </tr>\n",
       "    <tr>\n",
       "      <th>Time Students Spent for Studying</th>\n",
       "      <td>0.221472</td>\n",
       "      <td>1.000000</td>\n",
       "    </tr>\n",
       "  </tbody>\n",
       "</table>\n",
       "</div>"
      ],
      "text/plain": [
       "                                  Final Exam Scores  \\\n",
       "Final Exam Scores                          1.000000   \n",
       "Time Students Spent for Studying           0.221472   \n",
       "\n",
       "                                  Time Students Spent for Studying  \n",
       "Final Exam Scores                                         0.221472  \n",
       "Time Students Spent for Studying                          1.000000  "
      ]
     },
     "execution_count": 32,
     "metadata": {},
     "output_type": "execute_result"
    }
   ],
   "source": [
    "df2.corr(method = 'pearson')"
   ]
  },
  {
   "cell_type": "markdown",
   "id": "e612ec5d-4154-48c2-97f9-8533434076f1",
   "metadata": {},
   "source": [
    "Q8. Spearman's rank correlation is a measure of the monotonic relationship between two variables. \n",
    "Suppose you have collected data on the amount of sleep individuals get each night and their overall job \n",
    "satisfaction level on a scale of 1 to 10. Calculate the Spearman's rank correlation between these two \n",
    "variables and interpret the result."
   ]
  },
  {
   "cell_type": "code",
   "execution_count": 34,
   "id": "426a4a5b-6f5f-49d1-a6b9-00ae6cd95c31",
   "metadata": {},
   "outputs": [],
   "source": [
    "df5 = pd.DataFrame({\n",
    "    \"Sleeping Hours\":[8,7,6,8,9,10],\n",
    "    \"Job Statisfaction\":[8,8,9,4,5,8],\n",
    "})"
   ]
  },
  {
   "cell_type": "code",
   "execution_count": 35,
   "id": "2682d158-b66a-498e-8556-dd95d63133d7",
   "metadata": {},
   "outputs": [
    {
     "data": {
      "text/html": [
       "<div>\n",
       "<style scoped>\n",
       "    .dataframe tbody tr th:only-of-type {\n",
       "        vertical-align: middle;\n",
       "    }\n",
       "\n",
       "    .dataframe tbody tr th {\n",
       "        vertical-align: top;\n",
       "    }\n",
       "\n",
       "    .dataframe thead th {\n",
       "        text-align: right;\n",
       "    }\n",
       "</style>\n",
       "<table border=\"1\" class=\"dataframe\">\n",
       "  <thead>\n",
       "    <tr style=\"text-align: right;\">\n",
       "      <th></th>\n",
       "      <th>Final Exam Scores</th>\n",
       "      <th>Time Students Spent for Studying</th>\n",
       "    </tr>\n",
       "  </thead>\n",
       "  <tbody>\n",
       "    <tr>\n",
       "      <th>Final Exam Scores</th>\n",
       "      <td>1.000000</td>\n",
       "      <td>0.307794</td>\n",
       "    </tr>\n",
       "    <tr>\n",
       "      <th>Time Students Spent for Studying</th>\n",
       "      <td>0.307794</td>\n",
       "      <td>1.000000</td>\n",
       "    </tr>\n",
       "  </tbody>\n",
       "</table>\n",
       "</div>"
      ],
      "text/plain": [
       "                                  Final Exam Scores  \\\n",
       "Final Exam Scores                          1.000000   \n",
       "Time Students Spent for Studying           0.307794   \n",
       "\n",
       "                                  Time Students Spent for Studying  \n",
       "Final Exam Scores                                         0.307794  \n",
       "Time Students Spent for Studying                          1.000000  "
      ]
     },
     "execution_count": 35,
     "metadata": {},
     "output_type": "execute_result"
    }
   ],
   "source": [
    "df2.corr(method = 'spearman')"
   ]
  }
 ],
 "metadata": {
  "kernelspec": {
   "display_name": "Python 3 (ipykernel)",
   "language": "python",
   "name": "python3"
  },
  "language_info": {
   "codemirror_mode": {
    "name": "ipython",
    "version": 3
   },
   "file_extension": ".py",
   "mimetype": "text/x-python",
   "name": "python",
   "nbconvert_exporter": "python",
   "pygments_lexer": "ipython3",
   "version": "3.10.8"
  }
 },
 "nbformat": 4,
 "nbformat_minor": 5
}
